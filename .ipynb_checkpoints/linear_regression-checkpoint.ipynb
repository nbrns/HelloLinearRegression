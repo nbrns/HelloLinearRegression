{
 "cells": [
  {
   "cell_type": "markdown",
   "metadata": {},
   "source": [
    "# Implement linear regression from scratch\n",
    "c.f.: https://towardsdatascience.com/linear-regression-using-python-b136c91bf0a2\n",
    "\n",
    "## Generate training data"
   ]
  },
  {
   "cell_type": "code",
   "execution_count": 3,
   "metadata": {},
   "outputs": [],
   "source": [
    "# imports\n",
    "import numpy as np\n",
    "import matplotlib.pyplot as plt"
   ]
  },
  {
   "cell_type": "code",
   "execution_count": 4,
   "metadata": {},
   "outputs": [],
   "source": [
    "# generate random data-set\n",
    "# We only have 1 feature here\n",
    "\n",
    "np.random.seed(0)\n",
    "x = np.random.rand(20,2)\n",
    "y = 2 + 3 * x + np.random.rand(20,2)"
   ]
  },
  {
   "cell_type": "code",
   "execution_count": 6,
   "metadata": {
    "scrolled": true
   },
   "outputs": [
    {
     "name": "stdout",
     "output_type": "stream",
     "text": [
      "[[0.5488135  0.71518937]\n",
      " [0.60276338 0.54488318]\n",
      " [0.4236548  0.64589411]\n",
      " [0.43758721 0.891773  ]\n",
      " [0.96366276 0.38344152]\n",
      " [0.79172504 0.52889492]\n",
      " [0.56804456 0.92559664]\n",
      " [0.07103606 0.0871293 ]\n",
      " [0.0202184  0.83261985]\n",
      " [0.77815675 0.87001215]\n",
      " [0.97861834 0.79915856]\n",
      " [0.46147936 0.78052918]\n",
      " [0.11827443 0.63992102]\n",
      " [0.14335329 0.94466892]\n",
      " [0.52184832 0.41466194]\n",
      " [0.26455561 0.77423369]\n",
      " [0.45615033 0.56843395]\n",
      " [0.0187898  0.6176355 ]\n",
      " [0.61209572 0.616934  ]\n",
      " [0.94374808 0.6818203 ]]\n"
     ]
    }
   ],
   "source": [
    "print(x)"
   ]
  },
  {
   "cell_type": "code",
   "execution_count": 7,
   "metadata": {},
   "outputs": [
    {
     "data": {
      "image/png": "[encoded data removed]",
      "text/plain": [
       "<Figure size 432x288 with 1 Axes>"
      ]
     },
     "metadata": {
      "needs_background": "light"
     },
     "output_type": "display_data"
    }
   ],
   "source": [
    "# plot\n",
    "\n",
    "plt.scatter(x,y,s=10)\n",
    "plt.xlabel('x')\n",
    "plt.ylabel('y')\n",
    "plt.show()"
   ]
  },
  {
   "cell_type": "markdown",
   "metadata": {},
   "source": [
    "## Implement linear regression from scratch\n",
    "\n",
    "### [Linear Regression](https://en.wikipedia.org/wiki/Linear_regression) using [Gradient Descent](https://en.wikipedia.org/wiki/Gradient_descent)\n",
    "\n",
    "Further information on code:\n",
    "\n",
    "- eta: Learning rate\n",
    "- n_iterations: number of iterations for gradient descent\n",
    "\n",
    "Attributes:\n",
    "\n",
    "- cost_: Total error of model after each iteration\n",
    "- weights_: weights after fitting the model\n"
   ]
  },
  {
   "cell_type": "code",
   "execution_count": 8,
   "metadata": {},
   "outputs": [],
   "source": [
    "class LinearRegressionUsingGD:\n",
    "    \n",
    "    def __init__(self, eta=0.05, n_iterations=1000):\n",
    "        '''Constructor\n",
    "        '''\n",
    "        self.eta=eta\n",
    "        self.n_iterations=n_iterations\n",
    "\n",
    "        \n",
    "    def fit(self,x,y):\n",
    "        '''Fit the training data\n",
    "        \n",
    "        Paramters\n",
    "        ----------\n",
    "        x : training samples\n",
    "        y : target values\n",
    "        \n",
    "        Returns\n",
    "        -------\n",
    "        self : object\n",
    "        '''\n",
    "        \n",
    "        # initiliaze costs and weights\n",
    "        self.cost_ = []\n",
    "        self.weights_ = np.zeros((x.shape[1],2))\n",
    "        m = x.shape[0] # gets amount of training data\n",
    "        \n",
    "        # use _ because location does not matter\n",
    "        for _ in range(self.n_iterations):\n",
    "            y_pred = np.dot(x,self.weights_)\n",
    "            residuals=y_pred - y\n",
    "            gradient_vector = np.dot(x.T, residuals)\n",
    "            self.weights_ -= (self.eta / m) * gradient_vector\n",
    "            cost = np.sum((residuals ** 2)) / (2*m)\n",
    "            self.cost_.append(cost)        \n",
    "        return self"
   ]
  },
  {
   "cell_type": "code",
   "execution_count": 10,
   "metadata": {},
   "outputs": [
    {
     "ename": "AttributeError",
     "evalue": "'LinearRegressionUsingGD' object has no attribute 'weights_'",
     "output_type": "error",
     "traceback": [
      "\u001b[1;31m---------------------------------------------------------------------------\u001b[0m",
      "\u001b[1;31mAttributeError\u001b[0m                            Traceback (most recent call last)",
      "\u001b[1;32m<ipython-input-10-0a4eb8beb0e6>\u001b[0m in \u001b[0;36m<module>\u001b[1;34m()\u001b[0m\n\u001b[0;32m      1\u001b[0m \u001b[0mlr\u001b[0m\u001b[1;33m=\u001b[0m\u001b[0mLinearRegressionUsingGD\u001b[0m\u001b[1;33m(\u001b[0m\u001b[1;33m)\u001b[0m\u001b[1;33m\u001b[0m\u001b[0m\n\u001b[1;32m----> 2\u001b[1;33m \u001b[0mprint\u001b[0m\u001b[1;33m(\u001b[0m\u001b[0mlr\u001b[0m\u001b[1;33m.\u001b[0m\u001b[0mweights_\u001b[0m\u001b[1;33m)\u001b[0m\u001b[1;33m\u001b[0m\u001b[0m\n\u001b[0m\u001b[0;32m      3\u001b[0m \u001b[0mlr\u001b[0m\u001b[1;33m.\u001b[0m\u001b[0mfit\u001b[0m\u001b[1;33m(\u001b[0m\u001b[0mx\u001b[0m\u001b[1;33m,\u001b[0m\u001b[0my\u001b[0m\u001b[1;33m)\u001b[0m\u001b[1;33m\u001b[0m\u001b[0m\n\u001b[0;32m      4\u001b[0m \u001b[0mprint\u001b[0m\u001b[1;33m(\u001b[0m\u001b[0mlr\u001b[0m\u001b[1;33m.\u001b[0m\u001b[0mweights_\u001b[0m\u001b[1;33m)\u001b[0m\u001b[1;33m\u001b[0m\u001b[0m\n\u001b[0;32m      5\u001b[0m \u001b[1;33m\u001b[0m\u001b[0m\n",
      "\u001b[1;31mAttributeError\u001b[0m: 'LinearRegressionUsingGD' object has no attribute 'weights_'"
     ]
    }
   ],
   "source": [
    "lr=LinearRegressionUsingGD()\n",
    "\n",
    "lr.fit(x,y)\n",
    "\n",
    "\n",
    "print('Costs over iterations')\n",
    "\n",
    "plt.plot(lr.cost_)"
   ]
  },
  {
   "cell_type": "code",
   "execution_count": null,
   "metadata": {},
   "outputs": [],
   "source": []
  }
 ],
 "metadata": {
  "kernelspec": {
   "display_name": "Python 3",
   "language": "python",
   "name": "python3"
  },
  "language_info": {
   "codemirror_mode": {
    "name": "ipython",
    "version": 3
   },
   "file_extension": ".py",
   "mimetype": "text/x-python",
   "name": "python",
   "nbconvert_exporter": "python",
   "pygments_lexer": "ipython3",
   "version": "3.7.0"
  }
 },
 "nbformat": 4,
 "nbformat_minor": 2
}
